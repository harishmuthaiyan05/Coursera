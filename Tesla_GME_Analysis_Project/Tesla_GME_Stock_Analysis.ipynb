{
 "cells": [
  {
   "cell_type": "markdown",
   "id": "070e971a-d681-47fb-9015-413213696de5",
   "metadata": {},
   "source": [
    "# Question 1: Use the yfinance to Extract Stock Data"
   ]
  },
  {
   "cell_type": "markdown",
   "id": "050e1b93-43de-49c6-9df2-e4e9206ec5f9",
   "metadata": {},
   "source": [
    "### Installing yfinance into the juypter notebook"
   ]
  },
  {
   "cell_type": "code",
   "execution_count": 2,
   "id": "d20ee736-0982-40e8-a33a-11569b942830",
   "metadata": {},
   "outputs": [],
   "source": [
    "import yfinance as yf\n",
    "import pandas as pd"
   ]
  },
  {
   "cell_type": "markdown",
   "id": "12bb3ccc-5451-4b05-861a-702e52cdd80e",
   "metadata": {},
   "source": [
    "#### Download `Tesla` stock data"
   ]
  },
  {
   "cell_type": "code",
   "execution_count": 3,
   "id": "26859ca4-5cfe-4297-9bd9-907d987c5bcf",
   "metadata": {},
   "outputs": [
    {
     "name": "stderr",
     "output_type": "stream",
     "text": [
      "C:\\Users\\haris\\AppData\\Local\\Temp\\ipykernel_15132\\3052209451.py:1: FutureWarning: YF.download() has changed argument auto_adjust default to True\n",
      "  tesla_data = yf.download(\"TSLA\", start=\"2010-01-01\", end=\"2025-01-01\")\n",
      "[*********************100%***********************]  1 of 1 completed\n"
     ]
    }
   ],
   "source": [
    "tesla_data = yf.download(\"TSLA\", start=\"2010-01-01\", end=\"2025-01-01\")"
   ]
  },
  {
   "cell_type": "markdown",
   "id": "749617c6-38b5-4f69-893f-212a4b1fd032",
   "metadata": {},
   "source": [
    "### Rest the index"
   ]
  },
  {
   "cell_type": "code",
   "execution_count": 4,
   "id": "72546c84-1594-499a-a120-032fe76cde1b",
   "metadata": {},
   "outputs": [],
   "source": [
    "tesla_data.reset_index(inplace=True)"
   ]
  },
  {
   "cell_type": "markdown",
   "id": "5e886c41-4c7d-41ba-a896-0e88c4900110",
   "metadata": {},
   "source": [
    "### Display first 5 rows"
   ]
  },
  {
   "cell_type": "code",
   "execution_count": 5,
   "id": "c782ccbc-9cbc-4566-8983-5c971de74c51",
   "metadata": {},
   "outputs": [
    {
     "data": {
      "text/html": [
       "<div>\n",
       "<style scoped>\n",
       "    .dataframe tbody tr th:only-of-type {\n",
       "        vertical-align: middle;\n",
       "    }\n",
       "\n",
       "    .dataframe tbody tr th {\n",
       "        vertical-align: top;\n",
       "    }\n",
       "\n",
       "    .dataframe thead tr th {\n",
       "        text-align: left;\n",
       "    }\n",
       "</style>\n",
       "<table border=\"1\" class=\"dataframe\">\n",
       "  <thead>\n",
       "    <tr>\n",
       "      <th>Price</th>\n",
       "      <th>Date</th>\n",
       "      <th>Close</th>\n",
       "      <th>High</th>\n",
       "      <th>Low</th>\n",
       "      <th>Open</th>\n",
       "      <th>Volume</th>\n",
       "    </tr>\n",
       "    <tr>\n",
       "      <th>Ticker</th>\n",
       "      <th></th>\n",
       "      <th>TSLA</th>\n",
       "      <th>TSLA</th>\n",
       "      <th>TSLA</th>\n",
       "      <th>TSLA</th>\n",
       "      <th>TSLA</th>\n",
       "    </tr>\n",
       "  </thead>\n",
       "  <tbody>\n",
       "    <tr>\n",
       "      <th>0</th>\n",
       "      <td>2010-06-29</td>\n",
       "      <td>1.592667</td>\n",
       "      <td>1.666667</td>\n",
       "      <td>1.169333</td>\n",
       "      <td>1.266667</td>\n",
       "      <td>281494500</td>\n",
       "    </tr>\n",
       "    <tr>\n",
       "      <th>1</th>\n",
       "      <td>2010-06-30</td>\n",
       "      <td>1.588667</td>\n",
       "      <td>2.028000</td>\n",
       "      <td>1.553333</td>\n",
       "      <td>1.719333</td>\n",
       "      <td>257806500</td>\n",
       "    </tr>\n",
       "    <tr>\n",
       "      <th>2</th>\n",
       "      <td>2010-07-01</td>\n",
       "      <td>1.464000</td>\n",
       "      <td>1.728000</td>\n",
       "      <td>1.351333</td>\n",
       "      <td>1.666667</td>\n",
       "      <td>123282000</td>\n",
       "    </tr>\n",
       "    <tr>\n",
       "      <th>3</th>\n",
       "      <td>2010-07-02</td>\n",
       "      <td>1.280000</td>\n",
       "      <td>1.540000</td>\n",
       "      <td>1.247333</td>\n",
       "      <td>1.533333</td>\n",
       "      <td>77097000</td>\n",
       "    </tr>\n",
       "    <tr>\n",
       "      <th>4</th>\n",
       "      <td>2010-07-06</td>\n",
       "      <td>1.074000</td>\n",
       "      <td>1.333333</td>\n",
       "      <td>1.055333</td>\n",
       "      <td>1.333333</td>\n",
       "      <td>103003500</td>\n",
       "    </tr>\n",
       "  </tbody>\n",
       "</table>\n",
       "</div>"
      ],
      "text/plain": [
       "Price        Date     Close      High       Low      Open     Volume\n",
       "Ticker                 TSLA      TSLA      TSLA      TSLA       TSLA\n",
       "0      2010-06-29  1.592667  1.666667  1.169333  1.266667  281494500\n",
       "1      2010-06-30  1.588667  2.028000  1.553333  1.719333  257806500\n",
       "2      2010-07-01  1.464000  1.728000  1.351333  1.666667  123282000\n",
       "3      2010-07-02  1.280000  1.540000  1.247333  1.533333   77097000\n",
       "4      2010-07-06  1.074000  1.333333  1.055333  1.333333  103003500"
      ]
     },
     "execution_count": 5,
     "metadata": {},
     "output_type": "execute_result"
    }
   ],
   "source": [
    "tesla_data.head()"
   ]
  },
  {
   "cell_type": "markdown",
   "id": "2fabc3e8-6dbb-4053-9fc2-3d76047ca672",
   "metadata": {},
   "source": [
    "# Question 2: Use Webscraping to Extract Tesla Revenue Data"
   ]
  },
  {
   "cell_type": "markdown",
   "id": "62955561-ae12-48f0-a195-720e288a174d",
   "metadata": {},
   "source": [
    "### To display the last five rows of the `tesla_data` DataFrame, use the `.tail()` function"
   ]
  },
  {
   "cell_type": "code",
   "execution_count": 6,
   "id": "ef8f301f-f362-4b69-bf5a-c92444e6fab5",
   "metadata": {},
   "outputs": [
    {
     "data": {
      "text/html": [
       "<div>\n",
       "<style scoped>\n",
       "    .dataframe tbody tr th:only-of-type {\n",
       "        vertical-align: middle;\n",
       "    }\n",
       "\n",
       "    .dataframe tbody tr th {\n",
       "        vertical-align: top;\n",
       "    }\n",
       "\n",
       "    .dataframe thead tr th {\n",
       "        text-align: left;\n",
       "    }\n",
       "</style>\n",
       "<table border=\"1\" class=\"dataframe\">\n",
       "  <thead>\n",
       "    <tr>\n",
       "      <th>Price</th>\n",
       "      <th>Date</th>\n",
       "      <th>Close</th>\n",
       "      <th>High</th>\n",
       "      <th>Low</th>\n",
       "      <th>Open</th>\n",
       "      <th>Volume</th>\n",
       "    </tr>\n",
       "    <tr>\n",
       "      <th>Ticker</th>\n",
       "      <th></th>\n",
       "      <th>TSLA</th>\n",
       "      <th>TSLA</th>\n",
       "      <th>TSLA</th>\n",
       "      <th>TSLA</th>\n",
       "      <th>TSLA</th>\n",
       "    </tr>\n",
       "  </thead>\n",
       "  <tbody>\n",
       "    <tr>\n",
       "      <th>3647</th>\n",
       "      <td>2024-12-24</td>\n",
       "      <td>462.279999</td>\n",
       "      <td>462.779999</td>\n",
       "      <td>435.140015</td>\n",
       "      <td>435.899994</td>\n",
       "      <td>59551800</td>\n",
       "    </tr>\n",
       "    <tr>\n",
       "      <th>3648</th>\n",
       "      <td>2024-12-26</td>\n",
       "      <td>454.130005</td>\n",
       "      <td>465.329987</td>\n",
       "      <td>451.019989</td>\n",
       "      <td>465.160004</td>\n",
       "      <td>76366400</td>\n",
       "    </tr>\n",
       "    <tr>\n",
       "      <th>3649</th>\n",
       "      <td>2024-12-27</td>\n",
       "      <td>431.660004</td>\n",
       "      <td>450.000000</td>\n",
       "      <td>426.500000</td>\n",
       "      <td>449.519989</td>\n",
       "      <td>82666800</td>\n",
       "    </tr>\n",
       "    <tr>\n",
       "      <th>3650</th>\n",
       "      <td>2024-12-30</td>\n",
       "      <td>417.410004</td>\n",
       "      <td>427.000000</td>\n",
       "      <td>415.750000</td>\n",
       "      <td>419.399994</td>\n",
       "      <td>64941000</td>\n",
       "    </tr>\n",
       "    <tr>\n",
       "      <th>3651</th>\n",
       "      <td>2024-12-31</td>\n",
       "      <td>403.839996</td>\n",
       "      <td>427.929993</td>\n",
       "      <td>402.540009</td>\n",
       "      <td>423.790009</td>\n",
       "      <td>76825100</td>\n",
       "    </tr>\n",
       "  </tbody>\n",
       "</table>\n",
       "</div>"
      ],
      "text/plain": [
       "Price        Date       Close        High         Low        Open    Volume\n",
       "Ticker                   TSLA        TSLA        TSLA        TSLA      TSLA\n",
       "3647   2024-12-24  462.279999  462.779999  435.140015  435.899994  59551800\n",
       "3648   2024-12-26  454.130005  465.329987  451.019989  465.160004  76366400\n",
       "3649   2024-12-27  431.660004  450.000000  426.500000  449.519989  82666800\n",
       "3650   2024-12-30  417.410004  427.000000  415.750000  419.399994  64941000\n",
       "3651   2024-12-31  403.839996  427.929993  402.540009  423.790009  76825100"
      ]
     },
     "execution_count": 6,
     "metadata": {},
     "output_type": "execute_result"
    }
   ],
   "source": [
    "tesla_data.tail()"
   ]
  },
  {
   "cell_type": "markdown",
   "id": "365bb373-d0db-4c9b-b0a5-df3c3bf90675",
   "metadata": {},
   "source": [
    "# Question 3: Use yfinance to Extract Stock Data"
   ]
  },
  {
   "cell_type": "markdown",
   "id": "ca93e499-bed4-4bf3-85b7-9988d2c18ef6",
   "metadata": {},
   "source": [
    " ### Download GME stock data"
   ]
  },
  {
   "cell_type": "code",
   "execution_count": 7,
   "id": "520a4bb0-f063-44c0-ae90-74508f4b270d",
   "metadata": {},
   "outputs": [
    {
     "name": "stderr",
     "output_type": "stream",
     "text": [
      "C:\\Users\\haris\\AppData\\Local\\Temp\\ipykernel_15132\\2401429841.py:1: FutureWarning: YF.download() has changed argument auto_adjust default to True\n",
      "  gme_data = yf.download(\"GME\", start=\"2010-01-01\", end=\"2025-01-01\")\n",
      "[*********************100%***********************]  1 of 1 completed\n"
     ]
    }
   ],
   "source": [
    "gme_data = yf.download(\"GME\", start=\"2010-01-01\", end=\"2025-01-01\")"
   ]
  },
  {
   "cell_type": "markdown",
   "id": "05bec15f-2e30-4919-ad26-b5b300c8b327",
   "metadata": {},
   "source": [
    " ### Reset the index"
   ]
  },
  {
   "cell_type": "code",
   "execution_count": 8,
   "id": "b9efbd34-0a3a-4d22-86ee-be0368d2628e",
   "metadata": {},
   "outputs": [],
   "source": [
    "gme_data.reset_index(inplace=True)"
   ]
  },
  {
   "cell_type": "markdown",
   "id": "93b9f218-10cf-47db-9c9a-b22dc2b0f5e3",
   "metadata": {},
   "source": [
    "### Display the first `five rows`"
   ]
  },
  {
   "cell_type": "code",
   "execution_count": 9,
   "id": "d4a8aa2b-1ee5-41a9-90df-324a05a4ecc1",
   "metadata": {},
   "outputs": [
    {
     "data": {
      "text/html": [
       "<div>\n",
       "<style scoped>\n",
       "    .dataframe tbody tr th:only-of-type {\n",
       "        vertical-align: middle;\n",
       "    }\n",
       "\n",
       "    .dataframe tbody tr th {\n",
       "        vertical-align: top;\n",
       "    }\n",
       "\n",
       "    .dataframe thead tr th {\n",
       "        text-align: left;\n",
       "    }\n",
       "</style>\n",
       "<table border=\"1\" class=\"dataframe\">\n",
       "  <thead>\n",
       "    <tr>\n",
       "      <th>Price</th>\n",
       "      <th>Date</th>\n",
       "      <th>Close</th>\n",
       "      <th>High</th>\n",
       "      <th>Low</th>\n",
       "      <th>Open</th>\n",
       "      <th>Volume</th>\n",
       "    </tr>\n",
       "    <tr>\n",
       "      <th>Ticker</th>\n",
       "      <th></th>\n",
       "      <th>GME</th>\n",
       "      <th>GME</th>\n",
       "      <th>GME</th>\n",
       "      <th>GME</th>\n",
       "      <th>GME</th>\n",
       "    </tr>\n",
       "  </thead>\n",
       "  <tbody>\n",
       "    <tr>\n",
       "      <th>0</th>\n",
       "      <td>2010-01-04</td>\n",
       "      <td>3.854642</td>\n",
       "      <td>3.863059</td>\n",
       "      <td>3.703150</td>\n",
       "      <td>3.714933</td>\n",
       "      <td>26702800</td>\n",
       "    </tr>\n",
       "    <tr>\n",
       "      <th>1</th>\n",
       "      <td>2010-01-05</td>\n",
       "      <td>3.959004</td>\n",
       "      <td>3.996036</td>\n",
       "      <td>3.854643</td>\n",
       "      <td>3.856326</td>\n",
       "      <td>21269600</td>\n",
       "    </tr>\n",
       "    <tr>\n",
       "      <th>2</th>\n",
       "      <td>2010-01-06</td>\n",
       "      <td>4.044849</td>\n",
       "      <td>4.056632</td>\n",
       "      <td>3.908506</td>\n",
       "      <td>3.948904</td>\n",
       "      <td>21471200</td>\n",
       "    </tr>\n",
       "    <tr>\n",
       "      <th>3</th>\n",
       "      <td>2010-01-07</td>\n",
       "      <td>3.443931</td>\n",
       "      <td>3.563442</td>\n",
       "      <td>3.268873</td>\n",
       "      <td>3.368185</td>\n",
       "      <td>164761200</td>\n",
       "    </tr>\n",
       "    <tr>\n",
       "      <th>4</th>\n",
       "      <td>2010-01-08</td>\n",
       "      <td>3.415315</td>\n",
       "      <td>3.573540</td>\n",
       "      <td>3.405215</td>\n",
       "      <td>3.474228</td>\n",
       "      <td>47872400</td>\n",
       "    </tr>\n",
       "  </tbody>\n",
       "</table>\n",
       "</div>"
      ],
      "text/plain": [
       "Price        Date     Close      High       Low      Open     Volume\n",
       "Ticker                  GME       GME       GME       GME        GME\n",
       "0      2010-01-04  3.854642  3.863059  3.703150  3.714933   26702800\n",
       "1      2010-01-05  3.959004  3.996036  3.854643  3.856326   21269600\n",
       "2      2010-01-06  4.044849  4.056632  3.908506  3.948904   21471200\n",
       "3      2010-01-07  3.443931  3.563442  3.268873  3.368185  164761200\n",
       "4      2010-01-08  3.415315  3.573540  3.405215  3.474228   47872400"
      ]
     },
     "execution_count": 9,
     "metadata": {},
     "output_type": "execute_result"
    }
   ],
   "source": [
    "gme_data.head()"
   ]
  },
  {
   "cell_type": "markdown",
   "id": "e17e252c-867c-4268-819b-7f86e9491ca7",
   "metadata": {},
   "source": [
    "# Question 4: Use Webscraping to Extract GME Revenue Data"
   ]
  },
  {
   "cell_type": "markdown",
   "id": "3ed6306c-c434-4884-881c-6ea7ae5506e4",
   "metadata": {},
   "source": [
    "### importing necessary libs"
   ]
  },
  {
   "cell_type": "code",
   "execution_count": 10,
   "id": "647e113c-3de4-4b70-af50-5ac8898b813b",
   "metadata": {},
   "outputs": [],
   "source": [
    "import pandas as pd\n",
    "import requests\n",
    "import matplotlib.pyplot as plt\n",
    "from bs4 import BeautifulSoup"
   ]
  },
  {
   "cell_type": "markdown",
   "id": "652af38b-47c0-4098-bb2a-42a6c17621ed",
   "metadata": {},
   "source": [
    "### Fetch HTML from Macrotrends"
   ]
  },
  {
   "cell_type": "code",
   "execution_count": 11,
   "id": "73677342-c7af-4411-aeae-3537d952b4d8",
   "metadata": {},
   "outputs": [],
   "source": [
    "url = \"https://www.macrotrends.net/stocks/charts/GME/gamestop/revenue\"\n",
    "html = requests.get(url, headers={\"User-Agent\": \"Mozilla/5.0\"}).text\n",
    "soup = BeautifulSoup(html, \"html.parser\")"
   ]
  },
  {
   "cell_type": "markdown",
   "id": "1a8c7675-d869-479c-aa47-ee670ade553e",
   "metadata": {},
   "source": [
    "### Find the revenue table"
   ]
  },
  {
   "cell_type": "code",
   "execution_count": 12,
   "id": "53e5587a-ae6d-4e24-81cf-cad9c9990c51",
   "metadata": {},
   "outputs": [],
   "source": [
    "gme_revenue = pd.DataFrame(columns=[\"Date\", \"Revenue\"])\n",
    "\n",
    "tables = soup.find_all(\"table\")\n",
    "\n",
    "for table in tables:\n",
    "    if \"Quarterly Revenue\" in str(table):\n",
    "        for row in table.tbody.find_all(\"tr\"):\n",
    "            cols = row.find_all(\"td\")\n",
    "            if len(cols) == 2:\n",
    "                date = cols[0].text.strip()\n",
    "                revenue = cols[1].text.strip().replace(\"$\", \"\").replace(\",\", \"\")\n",
    "                if revenue:\n",
    "                    gme_revenue = pd.concat(\n",
    "                        [gme_revenue, pd.DataFrame([[date, revenue]], columns=[\"Date\", \"Revenue\"])],\n",
    "                        ignore_index=True\n",
    "                    )\n",
    "        break"
   ]
  },
  {
   "cell_type": "markdown",
   "id": "1b2f4495-151f-4e3a-a055-06f7f45a0432",
   "metadata": {},
   "source": [
    "### Convert revenue to numeric"
   ]
  },
  {
   "cell_type": "code",
   "execution_count": 13,
   "id": "07c2c27e-74af-4f2e-8f71-234c093cb34a",
   "metadata": {},
   "outputs": [],
   "source": [
    "gme_revenue[\"Revenue\"] = pd.to_numeric(gme_revenue[\"Revenue\"], errors=\"coerce\")"
   ]
  },
  {
   "cell_type": "markdown",
   "id": "59b55306-0f5e-4ba2-a325-d6246720db8f",
   "metadata": {},
   "source": [
    "### Display last five rows"
   ]
  },
  {
   "cell_type": "code",
   "execution_count": 14,
   "id": "587bb566-bc5b-4495-b8c7-59a561af68a3",
   "metadata": {},
   "outputs": [
    {
     "data": {
      "text/html": [
       "<div>\n",
       "<style scoped>\n",
       "    .dataframe tbody tr th:only-of-type {\n",
       "        vertical-align: middle;\n",
       "    }\n",
       "\n",
       "    .dataframe tbody tr th {\n",
       "        vertical-align: top;\n",
       "    }\n",
       "\n",
       "    .dataframe thead th {\n",
       "        text-align: right;\n",
       "    }\n",
       "</style>\n",
       "<table border=\"1\" class=\"dataframe\">\n",
       "  <thead>\n",
       "    <tr style=\"text-align: right;\">\n",
       "      <th></th>\n",
       "      <th>Date</th>\n",
       "      <th>Revenue</th>\n",
       "    </tr>\n",
       "  </thead>\n",
       "  <tbody>\n",
       "    <tr>\n",
       "      <th>61</th>\n",
       "      <td>2010-01-31</td>\n",
       "      <td>3524</td>\n",
       "    </tr>\n",
       "    <tr>\n",
       "      <th>62</th>\n",
       "      <td>2009-10-31</td>\n",
       "      <td>1835</td>\n",
       "    </tr>\n",
       "    <tr>\n",
       "      <th>63</th>\n",
       "      <td>2009-07-31</td>\n",
       "      <td>1739</td>\n",
       "    </tr>\n",
       "    <tr>\n",
       "      <th>64</th>\n",
       "      <td>2009-04-30</td>\n",
       "      <td>1981</td>\n",
       "    </tr>\n",
       "    <tr>\n",
       "      <th>65</th>\n",
       "      <td>2009-01-31</td>\n",
       "      <td>3492</td>\n",
       "    </tr>\n",
       "  </tbody>\n",
       "</table>\n",
       "</div>"
      ],
      "text/plain": [
       "          Date  Revenue\n",
       "61  2010-01-31     3524\n",
       "62  2009-10-31     1835\n",
       "63  2009-07-31     1739\n",
       "64  2009-04-30     1981\n",
       "65  2009-01-31     3492"
      ]
     },
     "execution_count": 14,
     "metadata": {},
     "output_type": "execute_result"
    }
   ],
   "source": [
    "gme_revenue.tail()"
   ]
  },
  {
   "cell_type": "markdown",
   "id": "3a96f458-24aa-411e-8e23-e342709a07ef",
   "metadata": {},
   "source": [
    "# Question 5: Plot Tesla Stock Graph"
   ]
  },
  {
   "cell_type": "code",
   "execution_count": 15,
   "id": "bfdf1dd0",
   "metadata": {},
   "outputs": [
    {
     "data": {
      "image/png": "[encoded data removed]",
      "text/plain": [
       "<Figure size 1400x600 with 1 Axes>"
      ]
     },
     "metadata": {},
     "output_type": "display_data"
    }
   ],
   "source": [
    "def make_graph(data, title):\n",
    "    plt.figure(figsize=(14, 6))\n",
    "    plt.plot(data['Date'], data['Close'], label='Close Price')\n",
    "    plt.title(title)\n",
    "    plt.xlabel('Date')\n",
    "    plt.ylabel('Close Price (USD)')\n",
    "    plt.grid(True)\n",
    "    plt.legend()\n",
    "    plt.show()\n",
    "\n",
    "# Call the function with Tesla data and a title\n",
    "make_graph(tesla_data, \"Tesla Stock Closing Prices Over Time\")\n"
   ]
  },
  {
   "cell_type": "markdown",
   "id": "d78efdcb-3da1-4a9e-bb82-f4fa6a837728",
   "metadata": {},
   "source": [
    "# Question 6: Plot GameStop Stock Graph"
   ]
  },
  {
   "cell_type": "code",
   "execution_count": 16,
   "id": "886381f6-f072-469f-a97d-6c20bf52bd7d",
   "metadata": {},
   "outputs": [
    {
     "data": {
      "image/png": "[encoded data removed]",
      "text/plain": [
       "<Figure size 1400x600 with 1 Axes>"
      ]
     },
     "metadata": {},
     "output_type": "display_data"
    }
   ],
   "source": [
    "def make_graph(data, title):\n",
    "    plt.figure(figsize=(14, 6))\n",
    "    plt.plot(data['Date'], data['Close'], label='Close Price')\n",
    "    plt.title(title)\n",
    "    plt.xlabel('Date')\n",
    "    plt.ylabel('Close Price (USD)')\n",
    "    plt.grid(True)\n",
    "    plt.legend()\n",
    "    plt.show()\n",
    "    \n",
    "make_graph(gme_data, \"GameStop Stock Closing Prices Over Time\")"
   ]
  }
 ],
 "metadata": {
  "kernelspec": {
   "display_name": "Python 3",
   "language": "python",
   "name": "python3"
  },
  "language_info": {
   "codemirror_mode": {
    "name": "ipython",
    "version": 3
   },
   "file_extension": ".py",
   "mimetype": "text/x-python",
   "name": "python",
   "nbconvert_exporter": "python",
   "pygments_lexer": "ipython3",
   "version": "3.13.5"
  }
 },
 "nbformat": 4,
 "nbformat_minor": 5
}
